{
 "cells": [
  {
   "cell_type": "markdown",
   "metadata": {},
   "source": [
    "# Final Project Template"
   ]
  },
  {
   "cell_type": "markdown",
   "metadata": {},
   "source": [
    "<div class=\"alert alert-block alert-danger\">\n",
    "Delete all cells including this one before submitting your final notebook.\n",
    "</div>"
   ]
  },
  {
   "cell_type": "markdown",
   "metadata": {},
   "source": [
    "<img src=\"https://s3.amazonaws.com/ByC_logo_prod/unit-26963.jpg\" alt=\"Alt text that describes the graphic\" width=\"600\" />"
   ]
  },
  {
   "cell_type": "markdown",
   "metadata": {},
   "source": [
    "# Title\n",
    "\n",
    "Add the title of your project and delete the default one."
   ]
  },
  {
   "cell_type": "markdown",
   "metadata": {},
   "source": [
    "# Table of contents\n",
    "\n",
    "- [Abstract](#Abstract)\n",
    "- [Introduction](#Introduction)\n",
    "- [1. The problem](#1.-The-problem)\n",
    "- [2. Purpose of the study](#2.-Purpose-of-the-study)\n",
    "- [3. Project description](#3.-Project-description)\n",
    "    - [3.1 Hypothesis](#3.1-Hypothesis)\n",
    "    - [3.2 Workflow](#3.2-Workflow)\n",
    "    - [3.3 Methods](#3.3-Methods)\n",
    "    - [3.4Analysis](#3.4-Analysis)\n",
    "    - [3.5 Results](#3.5-Results)\n",
    "- [4. Implementation (optional)](#4.-Implementation-(optional))\n",
    "- [Conclusion](#Conclusion)\n",
    "- [References](#References)"
   ]
  },
  {
   "cell_type": "code",
   "execution_count": 1,
   "metadata": {},
   "outputs": [
    {
     "ename": "ModuleNotFoundError",
     "evalue": "No module named 'seaborn'",
     "output_type": "error",
     "traceback": [
      "\u001b[0;31m---------------------------------------------------------------------------\u001b[0m",
      "\u001b[0;31mModuleNotFoundError\u001b[0m                       Traceback (most recent call last)",
      "\u001b[0;32m/var/folders/45/03zgzy4s0n1dj0g3htnmbffr0000gn/T/ipykernel_74917/3324394420.py\u001b[0m in \u001b[0;36m<module>\u001b[0;34m\u001b[0m\n\u001b[1;32m      5\u001b[0m \u001b[0;32mimport\u001b[0m \u001b[0mdatetime\u001b[0m\u001b[0;34m\u001b[0m\u001b[0;34m\u001b[0m\u001b[0m\n\u001b[1;32m      6\u001b[0m \u001b[0;32mimport\u001b[0m \u001b[0mos\u001b[0m\u001b[0;34m\u001b[0m\u001b[0;34m\u001b[0m\u001b[0m\n\u001b[0;32m----> 7\u001b[0;31m \u001b[0;32mimport\u001b[0m \u001b[0mseaborn\u001b[0m \u001b[0;32mas\u001b[0m \u001b[0msns\u001b[0m\u001b[0;34m\u001b[0m\u001b[0;34m\u001b[0m\u001b[0m\n\u001b[0m\u001b[1;32m      8\u001b[0m \u001b[0;32mimport\u001b[0m \u001b[0mgeopandas\u001b[0m \u001b[0;32mas\u001b[0m \u001b[0mgpd\u001b[0m\u001b[0;34m\u001b[0m\u001b[0;34m\u001b[0m\u001b[0m\n\u001b[1;32m      9\u001b[0m \u001b[0;32mimport\u001b[0m \u001b[0mseaborn\u001b[0m \u001b[0;32mas\u001b[0m \u001b[0msns\u001b[0m\u001b[0;34m\u001b[0m\u001b[0;34m\u001b[0m\u001b[0m\n",
      "\u001b[0;31mModuleNotFoundError\u001b[0m: No module named 'seaborn'"
     ]
    }
   ],
   "source": [
    "import warnings\n",
    "import pandas as pd\n",
    "import numpy as np\n",
    "import time\n",
    "import datetime\n",
    "import os\n",
    "import seaborn as sns\n",
    "import geopandas as gpd\n",
    "import seaborn as sns\n",
    "import matplotlib.pyplot as plt\n",
    "import numpy as np\n",
    "import os\n",
    "\n",
    "pd.set_option('display.max_columns', None)\n",
    "%matplotlib inline\n",
    "\n",
    "warnings.filterwarnings('ignore')\n"
   ]
  },
  {
   "cell_type": "code",
   "execution_count": null,
   "metadata": {},
   "outputs": [
    {
     "ename": "FileNotFoundError",
     "evalue": "[Errno 2] No such file or directory: 'mpls/mpls_data/mpls_police_data/police_incidents_2021_pims.csv'",
     "output_type": "error",
     "traceback": [
      "\u001b[0;31m---------------------------------------------------------------------------\u001b[0m",
      "\u001b[0;31mFileNotFoundError\u001b[0m                         Traceback (most recent call last)",
      "\u001b[0;32m/var/folders/45/03zgzy4s0n1dj0g3htnmbffr0000gn/T/ipykernel_1555/202223557.py\u001b[0m in \u001b[0;36m<module>\u001b[0;34m\u001b[0m\n\u001b[1;32m      1\u001b[0m \u001b[0mfolder\u001b[0m \u001b[0;34m=\u001b[0m \u001b[0;34m'mpls/mpls_data/mpls_police_data/'\u001b[0m\u001b[0;34m\u001b[0m\u001b[0;34m\u001b[0m\u001b[0m\n\u001b[0;32m----> 2\u001b[0;31m \u001b[0mdf\u001b[0m \u001b[0;34m=\u001b[0m \u001b[0mpd\u001b[0m\u001b[0;34m.\u001b[0m\u001b[0mread_csv\u001b[0m\u001b[0;34m(\u001b[0m\u001b[0mfolder\u001b[0m \u001b[0;34m+\u001b[0m \u001b[0;34m'police_incidents_2021_pims.csv'\u001b[0m\u001b[0;34m,\u001b[0m \u001b[0mparse_dates\u001b[0m\u001b[0;34m=\u001b[0m\u001b[0;34m[\u001b[0m\u001b[0;34m'beginDate'\u001b[0m\u001b[0;34m]\u001b[0m\u001b[0;34m)\u001b[0m\u001b[0;34m\u001b[0m\u001b[0;34m\u001b[0m\u001b[0m\n\u001b[0m\u001b[1;32m      3\u001b[0m \u001b[0;34m\u001b[0m\u001b[0m\n\u001b[1;32m      4\u001b[0m \u001b[0;32mdef\u001b[0m \u001b[0mconvertIntToTime\u001b[0m\u001b[0;34m(\u001b[0m\u001b[0mt\u001b[0m\u001b[0;34m)\u001b[0m\u001b[0;34m:\u001b[0m\u001b[0;34m\u001b[0m\u001b[0;34m\u001b[0m\u001b[0m\n\u001b[1;32m      5\u001b[0m     \u001b[0ms\u001b[0m \u001b[0;34m=\u001b[0m \u001b[0mt\u001b[0m\u001b[0;34m.\u001b[0m\u001b[0mastype\u001b[0m\u001b[0;34m(\u001b[0m\u001b[0mstr\u001b[0m\u001b[0;34m)\u001b[0m\u001b[0;34m.\u001b[0m\u001b[0mstr\u001b[0m\u001b[0;34m.\u001b[0m\u001b[0mzfill\u001b[0m\u001b[0;34m(\u001b[0m\u001b[0;36m4\u001b[0m\u001b[0;34m)\u001b[0m \u001b[0;34m+\u001b[0m \u001b[0;34m'00'\u001b[0m\u001b[0;34m\u001b[0m\u001b[0;34m\u001b[0m\u001b[0m\n",
      "\u001b[0;32m/opt/homebrew/Caskroom/miniforge/base/lib/python3.8/site-packages/pandas/util/_decorators.py\u001b[0m in \u001b[0;36mwrapper\u001b[0;34m(*args, **kwargs)\u001b[0m\n\u001b[1;32m    309\u001b[0m                     \u001b[0mstacklevel\u001b[0m\u001b[0;34m=\u001b[0m\u001b[0mstacklevel\u001b[0m\u001b[0;34m,\u001b[0m\u001b[0;34m\u001b[0m\u001b[0;34m\u001b[0m\u001b[0m\n\u001b[1;32m    310\u001b[0m                 )\n\u001b[0;32m--> 311\u001b[0;31m             \u001b[0;32mreturn\u001b[0m \u001b[0mfunc\u001b[0m\u001b[0;34m(\u001b[0m\u001b[0;34m*\u001b[0m\u001b[0margs\u001b[0m\u001b[0;34m,\u001b[0m \u001b[0;34m**\u001b[0m\u001b[0mkwargs\u001b[0m\u001b[0;34m)\u001b[0m\u001b[0;34m\u001b[0m\u001b[0;34m\u001b[0m\u001b[0m\n\u001b[0m\u001b[1;32m    312\u001b[0m \u001b[0;34m\u001b[0m\u001b[0m\n\u001b[1;32m    313\u001b[0m         \u001b[0;32mreturn\u001b[0m \u001b[0mwrapper\u001b[0m\u001b[0;34m\u001b[0m\u001b[0;34m\u001b[0m\u001b[0m\n",
      "\u001b[0;32m/opt/homebrew/Caskroom/miniforge/base/lib/python3.8/site-packages/pandas/io/parsers/readers.py\u001b[0m in \u001b[0;36mread_csv\u001b[0;34m(filepath_or_buffer, sep, delimiter, header, names, index_col, usecols, squeeze, prefix, mangle_dupe_cols, dtype, engine, converters, true_values, false_values, skipinitialspace, skiprows, skipfooter, nrows, na_values, keep_default_na, na_filter, verbose, skip_blank_lines, parse_dates, infer_datetime_format, keep_date_col, date_parser, dayfirst, cache_dates, iterator, chunksize, compression, thousands, decimal, lineterminator, quotechar, quoting, doublequote, escapechar, comment, encoding, encoding_errors, dialect, error_bad_lines, warn_bad_lines, on_bad_lines, delim_whitespace, low_memory, memory_map, float_precision, storage_options)\u001b[0m\n\u001b[1;32m    584\u001b[0m     \u001b[0mkwds\u001b[0m\u001b[0;34m.\u001b[0m\u001b[0mupdate\u001b[0m\u001b[0;34m(\u001b[0m\u001b[0mkwds_defaults\u001b[0m\u001b[0;34m)\u001b[0m\u001b[0;34m\u001b[0m\u001b[0;34m\u001b[0m\u001b[0m\n\u001b[1;32m    585\u001b[0m \u001b[0;34m\u001b[0m\u001b[0m\n\u001b[0;32m--> 586\u001b[0;31m     \u001b[0;32mreturn\u001b[0m \u001b[0m_read\u001b[0m\u001b[0;34m(\u001b[0m\u001b[0mfilepath_or_buffer\u001b[0m\u001b[0;34m,\u001b[0m \u001b[0mkwds\u001b[0m\u001b[0;34m)\u001b[0m\u001b[0;34m\u001b[0m\u001b[0;34m\u001b[0m\u001b[0m\n\u001b[0m\u001b[1;32m    587\u001b[0m \u001b[0;34m\u001b[0m\u001b[0m\n\u001b[1;32m    588\u001b[0m \u001b[0;34m\u001b[0m\u001b[0m\n",
      "\u001b[0;32m/opt/homebrew/Caskroom/miniforge/base/lib/python3.8/site-packages/pandas/io/parsers/readers.py\u001b[0m in \u001b[0;36m_read\u001b[0;34m(filepath_or_buffer, kwds)\u001b[0m\n\u001b[1;32m    480\u001b[0m \u001b[0;34m\u001b[0m\u001b[0m\n\u001b[1;32m    481\u001b[0m     \u001b[0;31m# Create the parser.\u001b[0m\u001b[0;34m\u001b[0m\u001b[0;34m\u001b[0m\u001b[0;34m\u001b[0m\u001b[0m\n\u001b[0;32m--> 482\u001b[0;31m     \u001b[0mparser\u001b[0m \u001b[0;34m=\u001b[0m \u001b[0mTextFileReader\u001b[0m\u001b[0;34m(\u001b[0m\u001b[0mfilepath_or_buffer\u001b[0m\u001b[0;34m,\u001b[0m \u001b[0;34m**\u001b[0m\u001b[0mkwds\u001b[0m\u001b[0;34m)\u001b[0m\u001b[0;34m\u001b[0m\u001b[0;34m\u001b[0m\u001b[0m\n\u001b[0m\u001b[1;32m    483\u001b[0m \u001b[0;34m\u001b[0m\u001b[0m\n\u001b[1;32m    484\u001b[0m     \u001b[0;32mif\u001b[0m \u001b[0mchunksize\u001b[0m \u001b[0;32mor\u001b[0m \u001b[0miterator\u001b[0m\u001b[0;34m:\u001b[0m\u001b[0;34m\u001b[0m\u001b[0;34m\u001b[0m\u001b[0m\n",
      "\u001b[0;32m/opt/homebrew/Caskroom/miniforge/base/lib/python3.8/site-packages/pandas/io/parsers/readers.py\u001b[0m in \u001b[0;36m__init__\u001b[0;34m(self, f, engine, **kwds)\u001b[0m\n\u001b[1;32m    809\u001b[0m             \u001b[0mself\u001b[0m\u001b[0;34m.\u001b[0m\u001b[0moptions\u001b[0m\u001b[0;34m[\u001b[0m\u001b[0;34m\"has_index_names\"\u001b[0m\u001b[0;34m]\u001b[0m \u001b[0;34m=\u001b[0m \u001b[0mkwds\u001b[0m\u001b[0;34m[\u001b[0m\u001b[0;34m\"has_index_names\"\u001b[0m\u001b[0;34m]\u001b[0m\u001b[0;34m\u001b[0m\u001b[0;34m\u001b[0m\u001b[0m\n\u001b[1;32m    810\u001b[0m \u001b[0;34m\u001b[0m\u001b[0m\n\u001b[0;32m--> 811\u001b[0;31m         \u001b[0mself\u001b[0m\u001b[0;34m.\u001b[0m\u001b[0m_engine\u001b[0m \u001b[0;34m=\u001b[0m \u001b[0mself\u001b[0m\u001b[0;34m.\u001b[0m\u001b[0m_make_engine\u001b[0m\u001b[0;34m(\u001b[0m\u001b[0mself\u001b[0m\u001b[0;34m.\u001b[0m\u001b[0mengine\u001b[0m\u001b[0;34m)\u001b[0m\u001b[0;34m\u001b[0m\u001b[0;34m\u001b[0m\u001b[0m\n\u001b[0m\u001b[1;32m    812\u001b[0m \u001b[0;34m\u001b[0m\u001b[0m\n\u001b[1;32m    813\u001b[0m     \u001b[0;32mdef\u001b[0m \u001b[0mclose\u001b[0m\u001b[0;34m(\u001b[0m\u001b[0mself\u001b[0m\u001b[0;34m)\u001b[0m\u001b[0;34m:\u001b[0m\u001b[0;34m\u001b[0m\u001b[0;34m\u001b[0m\u001b[0m\n",
      "\u001b[0;32m/opt/homebrew/Caskroom/miniforge/base/lib/python3.8/site-packages/pandas/io/parsers/readers.py\u001b[0m in \u001b[0;36m_make_engine\u001b[0;34m(self, engine)\u001b[0m\n\u001b[1;32m   1038\u001b[0m             )\n\u001b[1;32m   1039\u001b[0m         \u001b[0;31m# error: Too many arguments for \"ParserBase\"\u001b[0m\u001b[0;34m\u001b[0m\u001b[0;34m\u001b[0m\u001b[0;34m\u001b[0m\u001b[0m\n\u001b[0;32m-> 1040\u001b[0;31m         \u001b[0;32mreturn\u001b[0m \u001b[0mmapping\u001b[0m\u001b[0;34m[\u001b[0m\u001b[0mengine\u001b[0m\u001b[0;34m]\u001b[0m\u001b[0;34m(\u001b[0m\u001b[0mself\u001b[0m\u001b[0;34m.\u001b[0m\u001b[0mf\u001b[0m\u001b[0;34m,\u001b[0m \u001b[0;34m**\u001b[0m\u001b[0mself\u001b[0m\u001b[0;34m.\u001b[0m\u001b[0moptions\u001b[0m\u001b[0;34m)\u001b[0m  \u001b[0;31m# type: ignore[call-arg]\u001b[0m\u001b[0;34m\u001b[0m\u001b[0;34m\u001b[0m\u001b[0m\n\u001b[0m\u001b[1;32m   1041\u001b[0m \u001b[0;34m\u001b[0m\u001b[0m\n\u001b[1;32m   1042\u001b[0m     \u001b[0;32mdef\u001b[0m \u001b[0m_failover_to_python\u001b[0m\u001b[0;34m(\u001b[0m\u001b[0mself\u001b[0m\u001b[0;34m)\u001b[0m\u001b[0;34m:\u001b[0m\u001b[0;34m\u001b[0m\u001b[0;34m\u001b[0m\u001b[0m\n",
      "\u001b[0;32m/opt/homebrew/Caskroom/miniforge/base/lib/python3.8/site-packages/pandas/io/parsers/c_parser_wrapper.py\u001b[0m in \u001b[0;36m__init__\u001b[0;34m(self, src, **kwds)\u001b[0m\n\u001b[1;32m     49\u001b[0m \u001b[0;34m\u001b[0m\u001b[0m\n\u001b[1;32m     50\u001b[0m         \u001b[0;31m# open handles\u001b[0m\u001b[0;34m\u001b[0m\u001b[0;34m\u001b[0m\u001b[0;34m\u001b[0m\u001b[0m\n\u001b[0;32m---> 51\u001b[0;31m         \u001b[0mself\u001b[0m\u001b[0;34m.\u001b[0m\u001b[0m_open_handles\u001b[0m\u001b[0;34m(\u001b[0m\u001b[0msrc\u001b[0m\u001b[0;34m,\u001b[0m \u001b[0mkwds\u001b[0m\u001b[0;34m)\u001b[0m\u001b[0;34m\u001b[0m\u001b[0;34m\u001b[0m\u001b[0m\n\u001b[0m\u001b[1;32m     52\u001b[0m         \u001b[0;32massert\u001b[0m \u001b[0mself\u001b[0m\u001b[0;34m.\u001b[0m\u001b[0mhandles\u001b[0m \u001b[0;32mis\u001b[0m \u001b[0;32mnot\u001b[0m \u001b[0;32mNone\u001b[0m\u001b[0;34m\u001b[0m\u001b[0;34m\u001b[0m\u001b[0m\n\u001b[1;32m     53\u001b[0m \u001b[0;34m\u001b[0m\u001b[0m\n",
      "\u001b[0;32m/opt/homebrew/Caskroom/miniforge/base/lib/python3.8/site-packages/pandas/io/parsers/base_parser.py\u001b[0m in \u001b[0;36m_open_handles\u001b[0;34m(self, src, kwds)\u001b[0m\n\u001b[1;32m    220\u001b[0m         \u001b[0mLet\u001b[0m \u001b[0mthe\u001b[0m \u001b[0mreaders\u001b[0m \u001b[0mopen\u001b[0m \u001b[0mIOHandles\u001b[0m \u001b[0mafter\u001b[0m \u001b[0mthey\u001b[0m \u001b[0mare\u001b[0m \u001b[0mdone\u001b[0m \u001b[0;32mwith\u001b[0m \u001b[0mtheir\u001b[0m \u001b[0mpotential\u001b[0m \u001b[0mraises\u001b[0m\u001b[0;34m.\u001b[0m\u001b[0;34m\u001b[0m\u001b[0;34m\u001b[0m\u001b[0m\n\u001b[1;32m    221\u001b[0m         \"\"\"\n\u001b[0;32m--> 222\u001b[0;31m         self.handles = get_handle(\n\u001b[0m\u001b[1;32m    223\u001b[0m             \u001b[0msrc\u001b[0m\u001b[0;34m,\u001b[0m\u001b[0;34m\u001b[0m\u001b[0;34m\u001b[0m\u001b[0m\n\u001b[1;32m    224\u001b[0m             \u001b[0;34m\"r\"\u001b[0m\u001b[0;34m,\u001b[0m\u001b[0;34m\u001b[0m\u001b[0;34m\u001b[0m\u001b[0m\n",
      "\u001b[0;32m/opt/homebrew/Caskroom/miniforge/base/lib/python3.8/site-packages/pandas/io/common.py\u001b[0m in \u001b[0;36mget_handle\u001b[0;34m(path_or_buf, mode, encoding, compression, memory_map, is_text, errors, storage_options)\u001b[0m\n\u001b[1;32m    700\u001b[0m         \u001b[0;32mif\u001b[0m \u001b[0mioargs\u001b[0m\u001b[0;34m.\u001b[0m\u001b[0mencoding\u001b[0m \u001b[0;32mand\u001b[0m \u001b[0;34m\"b\"\u001b[0m \u001b[0;32mnot\u001b[0m \u001b[0;32min\u001b[0m \u001b[0mioargs\u001b[0m\u001b[0;34m.\u001b[0m\u001b[0mmode\u001b[0m\u001b[0;34m:\u001b[0m\u001b[0;34m\u001b[0m\u001b[0;34m\u001b[0m\u001b[0m\n\u001b[1;32m    701\u001b[0m             \u001b[0;31m# Encoding\u001b[0m\u001b[0;34m\u001b[0m\u001b[0;34m\u001b[0m\u001b[0;34m\u001b[0m\u001b[0m\n\u001b[0;32m--> 702\u001b[0;31m             handle = open(\n\u001b[0m\u001b[1;32m    703\u001b[0m                 \u001b[0mhandle\u001b[0m\u001b[0;34m,\u001b[0m\u001b[0;34m\u001b[0m\u001b[0;34m\u001b[0m\u001b[0m\n\u001b[1;32m    704\u001b[0m                 \u001b[0mioargs\u001b[0m\u001b[0;34m.\u001b[0m\u001b[0mmode\u001b[0m\u001b[0;34m,\u001b[0m\u001b[0;34m\u001b[0m\u001b[0;34m\u001b[0m\u001b[0m\n",
      "\u001b[0;31mFileNotFoundError\u001b[0m: [Errno 2] No such file or directory: 'mpls/mpls_data/mpls_police_data/police_incidents_2021_pims.csv'"
     ]
    }
   ],
   "source": [
    "folder = 'mpls/mpls_data/mpls_police_data/'\n",
    "df = pd.read_csv(folder + 'police_incidents_2021_pims.csv', parse_dates=['beginDate'])\n",
    "\n",
    "def convertIntToTime(t):\n",
    "    s = t.astype(str).str.zfill(4) + '00'\n",
    "    return pd.to_datetime(s.str[:2] + ':' + s.str[2:4] + ':' + s.str[4:]).dt.time\n",
    "\n",
    "df['beginTimeNew']  = convertIntToTime(df['beginTime'])\n",
    "df['beginDateTime'] = pd.to_datetime(df['beginDate'].dt.date.astype(str) + df['beginTimeNew'].astype(str), format = '%Y-%m-%d%H:%M:%S')\n",
    "\n",
    "print(df['beginDateTime'])\n",
    "df.head()\n"
   ]
  },
  {
   "cell_type": "code",
   "execution_count": null,
   "metadata": {},
   "outputs": [
    {
     "ename": "NameError",
     "evalue": "name 'pd' is not defined",
     "output_type": "error",
     "traceback": [
      "\u001b[0;31m---------------------------------------------------------------------------\u001b[0m",
      "\u001b[0;31mNameError\u001b[0m                                 Traceback (most recent call last)",
      "\u001b[0;32m/var/folders/45/03zgzy4s0n1dj0g3htnmbffr0000gn/T/ipykernel_1555/1531403463.py\u001b[0m in \u001b[0;36m<module>\u001b[0;34m\u001b[0m\n\u001b[1;32m     18\u001b[0m \u001b[0mfolder\u001b[0m \u001b[0;34m=\u001b[0m \u001b[0;34m'mpls_data/mpls_police_data/'\u001b[0m\u001b[0;34m\u001b[0m\u001b[0;34m\u001b[0m\u001b[0m\n\u001b[1;32m     19\u001b[0m \u001b[0;34m\u001b[0m\u001b[0m\n\u001b[0;32m---> 20\u001b[0;31m \u001b[0mc18\u001b[0m \u001b[0;34m=\u001b[0m \u001b[0mimport_pims_data\u001b[0m\u001b[0;34m(\u001b[0m\u001b[0mfolder\u001b[0m \u001b[0;34m+\u001b[0m \u001b[0;34m'police_incidents_2018_pims.csv'\u001b[0m\u001b[0;34m)\u001b[0m\u001b[0;34m\u001b[0m\u001b[0;34m\u001b[0m\u001b[0m\n\u001b[0m\u001b[1;32m     21\u001b[0m \u001b[0mc19\u001b[0m \u001b[0;34m=\u001b[0m \u001b[0mimport_pims_data\u001b[0m\u001b[0;34m(\u001b[0m\u001b[0mfolder\u001b[0m \u001b[0;34m+\u001b[0m \u001b[0;34m'police_incidents_2019_pims.csv'\u001b[0m\u001b[0;34m)\u001b[0m\u001b[0;34m\u001b[0m\u001b[0;34m\u001b[0m\u001b[0m\n\u001b[1;32m     22\u001b[0m \u001b[0mc20\u001b[0m \u001b[0;34m=\u001b[0m \u001b[0mimport_pims_data\u001b[0m\u001b[0;34m(\u001b[0m\u001b[0mfolder\u001b[0m \u001b[0;34m+\u001b[0m \u001b[0;34m'police_incidents_2020_pims.csv'\u001b[0m\u001b[0;34m)\u001b[0m\u001b[0;34m\u001b[0m\u001b[0;34m\u001b[0m\u001b[0m\n",
      "\u001b[0;32m/var/folders/45/03zgzy4s0n1dj0g3htnmbffr0000gn/T/ipykernel_1555/1531403463.py\u001b[0m in \u001b[0;36mimport_pims_data\u001b[0;34m(path)\u001b[0m\n\u001b[1;32m      1\u001b[0m \u001b[0;32mdef\u001b[0m \u001b[0mimport_pims_data\u001b[0m\u001b[0;34m(\u001b[0m\u001b[0mpath\u001b[0m\u001b[0;34m)\u001b[0m\u001b[0;34m:\u001b[0m\u001b[0;34m\u001b[0m\u001b[0;34m\u001b[0m\u001b[0m\n\u001b[1;32m      2\u001b[0m \u001b[0;34m\u001b[0m\u001b[0m\n\u001b[0;32m----> 3\u001b[0;31m     \u001b[0mdf\u001b[0m \u001b[0;34m=\u001b[0m \u001b[0mpd\u001b[0m\u001b[0;34m.\u001b[0m\u001b[0mread_csv\u001b[0m\u001b[0;34m(\u001b[0m\u001b[0mpath\u001b[0m\u001b[0;34m,\u001b[0m \u001b[0mparse_dates\u001b[0m\u001b[0;34m=\u001b[0m\u001b[0;34m[\u001b[0m\u001b[0;34m'beginDate'\u001b[0m\u001b[0;34m]\u001b[0m\u001b[0;34m)\u001b[0m\u001b[0;34m\u001b[0m\u001b[0;34m\u001b[0m\u001b[0m\n\u001b[0m\u001b[1;32m      4\u001b[0m     \u001b[0mdf\u001b[0m\u001b[0;34m[\u001b[0m\u001b[0;34m'beginTimeNew'\u001b[0m\u001b[0;34m]\u001b[0m  \u001b[0;34m=\u001b[0m \u001b[0mconvertIntToTime\u001b[0m\u001b[0;34m(\u001b[0m\u001b[0mdf\u001b[0m\u001b[0;34m[\u001b[0m\u001b[0;34m'beginTime'\u001b[0m\u001b[0;34m]\u001b[0m\u001b[0;34m)\u001b[0m\u001b[0;34m\u001b[0m\u001b[0;34m\u001b[0m\u001b[0m\n\u001b[1;32m      5\u001b[0m     \u001b[0mdf\u001b[0m\u001b[0;34m[\u001b[0m\u001b[0;34m'Dates'\u001b[0m\u001b[0;34m]\u001b[0m \u001b[0;34m=\u001b[0m \u001b[0mpd\u001b[0m\u001b[0;34m.\u001b[0m\u001b[0mto_datetime\u001b[0m\u001b[0;34m(\u001b[0m\u001b[0mdf\u001b[0m\u001b[0;34m[\u001b[0m\u001b[0;34m'beginDate'\u001b[0m\u001b[0;34m]\u001b[0m\u001b[0;34m.\u001b[0m\u001b[0mdt\u001b[0m\u001b[0;34m.\u001b[0m\u001b[0mdate\u001b[0m\u001b[0;34m.\u001b[0m\u001b[0mastype\u001b[0m\u001b[0;34m(\u001b[0m\u001b[0mstr\u001b[0m\u001b[0;34m)\u001b[0m \u001b[0;34m+\u001b[0m \u001b[0mdf\u001b[0m\u001b[0;34m[\u001b[0m\u001b[0;34m'beginTimeNew'\u001b[0m\u001b[0;34m]\u001b[0m\u001b[0;34m.\u001b[0m\u001b[0mastype\u001b[0m\u001b[0;34m(\u001b[0m\u001b[0mstr\u001b[0m\u001b[0;34m)\u001b[0m\u001b[0;34m,\u001b[0m \u001b[0mformat\u001b[0m \u001b[0;34m=\u001b[0m \u001b[0;34m'%Y-%m-%d%H:%M:%S'\u001b[0m\u001b[0;34m)\u001b[0m\u001b[0;34m\u001b[0m\u001b[0;34m\u001b[0m\u001b[0m\n",
      "\u001b[0;31mNameError\u001b[0m: name 'pd' is not defined"
     ]
    }
   ],
   "source": [
    "def import_pims_data(path):\n",
    "\n",
    "    df = pd.read_csv(path, parse_dates=['beginDate'])\n",
    "    df['beginTimeNew']  = convertIntToTime(df['beginTime'])\n",
    "    df['Dates'] = pd.to_datetime(df['beginDate'].dt.date.astype(str) + df['beginTimeNew'].astype(str), format = '%Y-%m-%d%H:%M:%S')\n",
    "    df.drop(columns={'X', 'Y', 'caseNumber','reportedDate', 'reportedTime', 'beginDate', 'reportedDateTime', 'beginTime', 'enteredDate', 'centergbsid', 'centerX', 'centerY', 'lastchanged', 'LastUpdateDateETL',  'OBJECTID', 'beginTimeNew'}, inplace=True)\n",
    "    df.rename(columns={'publicaddress':'Address','centerLat': 'Lat', 'centerLong': 'Long', 'description': 'Description', 'offense': 'Offense', 'precinct': 'Precinct', 'reportedDateTime': 'ReportedDateTime', 'neighborhood': 'Neighborhood'}, inplace=True)\n",
    "    df = df[['Dates','Address', 'Lat', 'Long', 'Neighborhood', 'Precinct', 'Offense', 'Description', 'UCRCode']] \n",
    "    #df['UCRCode'] =df['UCRCode'].astype(int)\n",
    "    df['Dates'] = pd.to_datetime(df['Dates'], utc=False)\n",
    "    return df\n",
    "\n",
    "def convertIntToTime(t):\n",
    "    s = t.astype(str).str.zfill(4) + '00'\n",
    "    return pd.to_datetime(s.str[:2] + ':' + s.str[2:4] + ':' + s.str[4:]).dt.time\n",
    "\n",
    "\n",
    "folder = 'mpls_data/mpls_police_data/'\n",
    "\n",
    "c18 = import_pims_data(folder + 'police_incidents_2018_pims.csv')\n",
    "c19 = import_pims_data(folder + 'police_incidents_2019_pims.csv')\n",
    "c20 = import_pims_data(folder + 'police_incidents_2020_pims.csv')\n",
    "c21 = import_pims_data(folder + 'police_incidents_2021_pims.csv')\n",
    "\n",
    "frames = [c18, c19, c20, c21]\n",
    "df_pims = pd.concat(frames)\n",
    "\n",
    "df_pims.head()\n",
    "df_pims.info"
   ]
  },
  {
   "cell_type": "code",
   "execution_count": null,
   "metadata": {},
   "outputs": [
    {
     "data": {
      "text/html": [
       "<div>\n",
       "<style scoped>\n",
       "    .dataframe tbody tr th:only-of-type {\n",
       "        vertical-align: middle;\n",
       "    }\n",
       "\n",
       "    .dataframe tbody tr th {\n",
       "        vertical-align: top;\n",
       "    }\n",
       "\n",
       "    .dataframe thead th {\n",
       "        text-align: right;\n",
       "    }\n",
       "</style>\n",
       "<table border=\"1\" class=\"dataframe\">\n",
       "  <thead>\n",
       "    <tr style=\"text-align: right;\">\n",
       "      <th></th>\n",
       "      <th>Dates</th>\n",
       "      <th>Address</th>\n",
       "      <th>Lat</th>\n",
       "      <th>Long</th>\n",
       "      <th>Neighborhood</th>\n",
       "      <th>Precinct</th>\n",
       "      <th>Offense</th>\n",
       "      <th>Description</th>\n",
       "      <th>UCRCode</th>\n",
       "    </tr>\n",
       "  </thead>\n",
       "  <tbody>\n",
       "    <tr>\n",
       "      <th>0</th>\n",
       "      <td>2010-01-01 00:30:00</td>\n",
       "      <td>0056XX Lyndale AV S</td>\n",
       "      <td>44.900291</td>\n",
       "      <td>-93.288239</td>\n",
       "      <td>WINDOM</td>\n",
       "      <td>5.0</td>\n",
       "      <td>CSCR</td>\n",
       "      <td>Crim Sex Cond-rape</td>\n",
       "      <td>3</td>\n",
       "    </tr>\n",
       "    <tr>\n",
       "      <th>1</th>\n",
       "      <td>2010-01-01 01:05:00</td>\n",
       "      <td>0001XX 62 ST W</td>\n",
       "      <td>44.890636</td>\n",
       "      <td>-93.280041</td>\n",
       "      <td>WINDOM</td>\n",
       "      <td>5.0</td>\n",
       "      <td>ROBPAG</td>\n",
       "      <td>Robbery Per Agg</td>\n",
       "      <td>4</td>\n",
       "    </tr>\n",
       "    <tr>\n",
       "      <th>2</th>\n",
       "      <td>2010-01-01 04:18:00</td>\n",
       "      <td>0039XX 5 AV S</td>\n",
       "      <td>44.931448</td>\n",
       "      <td>-93.268841</td>\n",
       "      <td>BRYANT</td>\n",
       "      <td>3.0</td>\n",
       "      <td>BURGD</td>\n",
       "      <td>Burglary Of Dwelling</td>\n",
       "      <td>6</td>\n",
       "    </tr>\n",
       "    <tr>\n",
       "      <th>3</th>\n",
       "      <td>2010-01-01 03:00:00</td>\n",
       "      <td>0013XX Nicollet AV S</td>\n",
       "      <td>44.970506</td>\n",
       "      <td>-93.277714</td>\n",
       "      <td>LORING PARK</td>\n",
       "      <td>1.0</td>\n",
       "      <td>ASLT2</td>\n",
       "      <td>Asslt W/dngrs Weapon</td>\n",
       "      <td>5</td>\n",
       "    </tr>\n",
       "    <tr>\n",
       "      <th>4</th>\n",
       "      <td>2010-01-01 02:23:00</td>\n",
       "      <td>0034XX Oliver AV N</td>\n",
       "      <td>45.017746</td>\n",
       "      <td>-93.306988</td>\n",
       "      <td>FOLWELL</td>\n",
       "      <td>4.0</td>\n",
       "      <td>BURGD</td>\n",
       "      <td>Burglary Of Dwelling</td>\n",
       "      <td>6</td>\n",
       "    </tr>\n",
       "  </tbody>\n",
       "</table>\n",
       "</div>"
      ],
      "text/plain": [
       "                Dates               Address        Lat       Long  \\\n",
       "0 2010-01-01 00:30:00   0056XX Lyndale AV S  44.900291 -93.288239   \n",
       "1 2010-01-01 01:05:00        0001XX 62 ST W  44.890636 -93.280041   \n",
       "2 2010-01-01 04:18:00         0039XX 5 AV S  44.931448 -93.268841   \n",
       "3 2010-01-01 03:00:00  0013XX Nicollet AV S  44.970506 -93.277714   \n",
       "4 2010-01-01 02:23:00    0034XX Oliver AV N  45.017746 -93.306988   \n",
       "\n",
       "  Neighborhood  Precinct Offense           Description  UCRCode  \n",
       "0       WINDOM       5.0    CSCR    Crim Sex Cond-rape        3  \n",
       "1       WINDOM       5.0  ROBPAG       Robbery Per Agg        4  \n",
       "2       BRYANT       3.0   BURGD  Burglary Of Dwelling        6  \n",
       "3  LORING PARK       1.0   ASLT2  Asslt W/dngrs Weapon        5  \n",
       "4      FOLWELL       4.0   BURGD  Burglary Of Dwelling        6  "
      ]
     },
     "execution_count": 93,
     "metadata": {},
     "output_type": "execute_result"
    }
   ],
   "source": [
    "def import_caprs_data(path):\n",
    "    #df = []\n",
    "    df = pd.read_csv(path)\n",
    "    #df.drop(columns={'caseNumber','reportedDate', 'reportedTime', 'beginDate', 'beginTime', 'enteredDate', 'centergbsid', 'centerX', 'centerY', 'lastchanged', 'LastUpdateDateETL',  'OBJECTID', 'beginTimeNew'}, inplace=True)\n",
    "    df.drop(columns={'FID', 'ControlNbr', 'CCN', 'ReportedDate', 'Time', 'EnteredDate', 'GBSID', 'X', 'Y', 'LastChanged', 'LastUpdateDate' }, inplace=True)\n",
    "    df.rename(columns={'BeginDate':'Dates', 'PublicAddress': 'Address'}, inplace=True)\n",
    "    df = df[['Dates','Address', 'Lat', 'Long', 'Neighborhood', 'Precinct', 'Offense', 'Description', 'UCRCode']]\n",
    "    #print(df.columns)\n",
    "    df['Dates'] = pd.to_datetime(df['Dates'], utc=False)\n",
    "    return df\n",
    "\n",
    "\n",
    "folder = 'mpls_data/mpls_police_data/'\n",
    "path = folder + 'police_incidents_2010_caprs.csv'\n",
    "\n",
    "c10 = import_caprs_data(folder + 'police_incidents_2010_caprs.csv')\n",
    "c11 = import_caprs_data(folder + 'police_incidents_2011_caprs.csv')\n",
    "c12 = import_caprs_data(folder + 'police_incidents_2012_caprs.csv')\n",
    "c13 = import_caprs_data(folder + 'police_incidents_2013_caprs.csv')\n",
    "c14 = import_caprs_data(folder + 'police_incidents_2014_caprs.csv')\n",
    "c15 = import_caprs_data(folder + 'police_incidents_2015_caprs.csv')\n",
    "c16 = import_caprs_data(folder + 'police_incidents_2016_caprs.csv')\n",
    "c17 = import_caprs_data(folder + 'police_incidents_2017_caprs.csv')\n",
    "c18 = import_caprs_data(folder + 'police_incidents_2018_caprs.csv')\n",
    "\n",
    "frames = [c10, c11, c12, c13, c14, c15, c16, c17, c18]\n",
    "df_caprs = pd.concat(frames)\n",
    "\n",
    "df_caprs.head()\n",
    "df_caprs.shape"
   ]
  },
  {
   "cell_type": "code",
   "execution_count": null,
   "metadata": {},
   "outputs": [
    {
     "data": {
      "text/html": [
       "<div>\n",
       "<style scoped>\n",
       "    .dataframe tbody tr th:only-of-type {\n",
       "        vertical-align: middle;\n",
       "    }\n",
       "\n",
       "    .dataframe tbody tr th {\n",
       "        vertical-align: top;\n",
       "    }\n",
       "\n",
       "    .dataframe thead th {\n",
       "        text-align: right;\n",
       "    }\n",
       "</style>\n",
       "<table border=\"1\" class=\"dataframe\">\n",
       "  <thead>\n",
       "    <tr style=\"text-align: right;\">\n",
       "      <th></th>\n",
       "      <th>Dates</th>\n",
       "      <th>Address</th>\n",
       "      <th>Lat</th>\n",
       "      <th>Long</th>\n",
       "      <th>Neighborhood</th>\n",
       "      <th>Precinct</th>\n",
       "      <th>Offense</th>\n",
       "      <th>Description</th>\n",
       "      <th>UCRCode</th>\n",
       "    </tr>\n",
       "  </thead>\n",
       "  <tbody>\n",
       "    <tr>\n",
       "      <th>0</th>\n",
       "      <td>2010-01-01 00:30:00</td>\n",
       "      <td>0056XX Lyndale AV S</td>\n",
       "      <td>44.900291</td>\n",
       "      <td>-93.288239</td>\n",
       "      <td>WINDOM</td>\n",
       "      <td>5.0</td>\n",
       "      <td>CSCR</td>\n",
       "      <td>Crim Sex Cond-rape</td>\n",
       "      <td>3.0</td>\n",
       "    </tr>\n",
       "    <tr>\n",
       "      <th>1</th>\n",
       "      <td>2010-01-01 01:05:00</td>\n",
       "      <td>0001XX 62 ST W</td>\n",
       "      <td>44.890636</td>\n",
       "      <td>-93.280041</td>\n",
       "      <td>WINDOM</td>\n",
       "      <td>5.0</td>\n",
       "      <td>ROBPAG</td>\n",
       "      <td>Robbery Per Agg</td>\n",
       "      <td>4.0</td>\n",
       "    </tr>\n",
       "    <tr>\n",
       "      <th>2</th>\n",
       "      <td>2010-01-01 04:18:00</td>\n",
       "      <td>0039XX 5 AV S</td>\n",
       "      <td>44.931448</td>\n",
       "      <td>-93.268841</td>\n",
       "      <td>BRYANT</td>\n",
       "      <td>3.0</td>\n",
       "      <td>BURGD</td>\n",
       "      <td>Burglary Of Dwelling</td>\n",
       "      <td>6.0</td>\n",
       "    </tr>\n",
       "    <tr>\n",
       "      <th>3</th>\n",
       "      <td>2010-01-01 03:00:00</td>\n",
       "      <td>0013XX Nicollet AV S</td>\n",
       "      <td>44.970506</td>\n",
       "      <td>-93.277714</td>\n",
       "      <td>LORING PARK</td>\n",
       "      <td>1.0</td>\n",
       "      <td>ASLT2</td>\n",
       "      <td>Asslt W/dngrs Weapon</td>\n",
       "      <td>5.0</td>\n",
       "    </tr>\n",
       "    <tr>\n",
       "      <th>4</th>\n",
       "      <td>2010-01-01 02:23:00</td>\n",
       "      <td>0034XX Oliver AV N</td>\n",
       "      <td>45.017746</td>\n",
       "      <td>-93.306988</td>\n",
       "      <td>FOLWELL</td>\n",
       "      <td>4.0</td>\n",
       "      <td>BURGD</td>\n",
       "      <td>Burglary Of Dwelling</td>\n",
       "      <td>6.0</td>\n",
       "    </tr>\n",
       "  </tbody>\n",
       "</table>\n",
       "</div>"
      ],
      "text/plain": [
       "                Dates               Address        Lat       Long  \\\n",
       "0 2010-01-01 00:30:00   0056XX Lyndale AV S  44.900291 -93.288239   \n",
       "1 2010-01-01 01:05:00        0001XX 62 ST W  44.890636 -93.280041   \n",
       "2 2010-01-01 04:18:00         0039XX 5 AV S  44.931448 -93.268841   \n",
       "3 2010-01-01 03:00:00  0013XX Nicollet AV S  44.970506 -93.277714   \n",
       "4 2010-01-01 02:23:00    0034XX Oliver AV N  45.017746 -93.306988   \n",
       "\n",
       "  Neighborhood Precinct Offense           Description  UCRCode  \n",
       "0       WINDOM      5.0    CSCR    Crim Sex Cond-rape      3.0  \n",
       "1       WINDOM      5.0  ROBPAG       Robbery Per Agg      4.0  \n",
       "2       BRYANT      3.0   BURGD  Burglary Of Dwelling      6.0  \n",
       "3  LORING PARK      1.0   ASLT2  Asslt W/dngrs Weapon      5.0  \n",
       "4      FOLWELL      4.0   BURGD  Burglary Of Dwelling      6.0  "
      ]
     },
     "execution_count": 94,
     "metadata": {},
     "output_type": "execute_result"
    }
   ],
   "source": [
    "# concatenate df's together and \n",
    "frames = [df_caprs, df_pims]\n",
    "df = pd.concat(frames)\n",
    "df.head()"
   ]
  },
  {
   "cell_type": "markdown",
   "metadata": {},
   "source": [
    "## Data Cleansing"
   ]
  },
  {
   "cell_type": "code",
   "execution_count": null,
   "metadata": {},
   "outputs": [
    {
     "data": {
      "text/plain": [
       "1161"
      ]
     },
     "execution_count": 95,
     "metadata": {},
     "output_type": "execute_result"
    }
   ],
   "source": [
    "# check for duplicate records\n",
    "df.duplicated(subset=None, keep='first').sum()\n",
    "#df.shape"
   ]
  },
  {
   "cell_type": "code",
   "execution_count": null,
   "metadata": {},
   "outputs": [
    {
     "data": {
      "text/html": [
       "<div>\n",
       "<style scoped>\n",
       "    .dataframe tbody tr th:only-of-type {\n",
       "        vertical-align: middle;\n",
       "    }\n",
       "\n",
       "    .dataframe tbody tr th {\n",
       "        vertical-align: top;\n",
       "    }\n",
       "\n",
       "    .dataframe thead th {\n",
       "        text-align: right;\n",
       "    }\n",
       "</style>\n",
       "<table border=\"1\" class=\"dataframe\">\n",
       "  <thead>\n",
       "    <tr style=\"text-align: right;\">\n",
       "      <th></th>\n",
       "      <th>Dates</th>\n",
       "      <th>Address</th>\n",
       "      <th>Long</th>\n",
       "      <th>Lat</th>\n",
       "      <th>Neighborhood</th>\n",
       "      <th>Precinct</th>\n",
       "      <th>Offense</th>\n",
       "      <th>Description</th>\n",
       "      <th>UCRCode</th>\n",
       "      <th>DayOfWeek</th>\n",
       "    </tr>\n",
       "  </thead>\n",
       "  <tbody>\n",
       "    <tr>\n",
       "      <th>14343</th>\n",
       "      <td>2021-06-21 21:00:00</td>\n",
       "      <td>0045XX MINNEHAHA AVE</td>\n",
       "      <td>-93.215306</td>\n",
       "      <td>44.920621</td>\n",
       "      <td>HIAWATHA</td>\n",
       "      <td>3</td>\n",
       "      <td>TFMV</td>\n",
       "      <td>THEFT FROM MOTR VEHC</td>\n",
       "      <td>7.0</td>\n",
       "      <td>Monday</td>\n",
       "    </tr>\n",
       "    <tr>\n",
       "      <th>14344</th>\n",
       "      <td>2021-06-21 22:00:00</td>\n",
       "      <td>0003XX 1ST ST N</td>\n",
       "      <td>-93.270715</td>\n",
       "      <td>44.986581</td>\n",
       "      <td>NORTH LOOP</td>\n",
       "      <td>1</td>\n",
       "      <td>TFMV</td>\n",
       "      <td>THEFT FROM MOTR VEHC</td>\n",
       "      <td>7.0</td>\n",
       "      <td>Monday</td>\n",
       "    </tr>\n",
       "    <tr>\n",
       "      <th>14345</th>\n",
       "      <td>2021-06-22 13:30:00</td>\n",
       "      <td>00002X FRANKLIN AVE E</td>\n",
       "      <td>-93.277185</td>\n",
       "      <td>44.962689</td>\n",
       "      <td>WHITTIER</td>\n",
       "      <td>5</td>\n",
       "      <td>THEFT</td>\n",
       "      <td>OTHER THEFT</td>\n",
       "      <td>7.0</td>\n",
       "      <td>Tuesday</td>\n",
       "    </tr>\n",
       "    <tr>\n",
       "      <th>14346</th>\n",
       "      <td>2021-06-18 20:20:00</td>\n",
       "      <td>0026XX DUPONT AVE S</td>\n",
       "      <td>-93.293151</td>\n",
       "      <td>44.954645</td>\n",
       "      <td>LOWRY HILL EAST</td>\n",
       "      <td>5</td>\n",
       "      <td>TFMV</td>\n",
       "      <td>THEFT FROM MOTR VEHC</td>\n",
       "      <td>7.0</td>\n",
       "      <td>Friday</td>\n",
       "    </tr>\n",
       "    <tr>\n",
       "      <th>14347</th>\n",
       "      <td>2021-06-20 23:30:00</td>\n",
       "      <td>0052XX 40TH AVE S</td>\n",
       "      <td>-93.215215</td>\n",
       "      <td>44.908098</td>\n",
       "      <td>MINNEHAHA</td>\n",
       "      <td>3</td>\n",
       "      <td>TFMV</td>\n",
       "      <td>THEFT FROM MOTR VEHC</td>\n",
       "      <td>7.0</td>\n",
       "      <td>Sunday</td>\n",
       "    </tr>\n",
       "  </tbody>\n",
       "</table>\n",
       "</div>"
      ],
      "text/plain": [
       "                    Dates                Address       Long        Lat  \\\n",
       "14343 2021-06-21 21:00:00  0045XX MINNEHAHA AVE  -93.215306  44.920621   \n",
       "14344 2021-06-21 22:00:00        0003XX 1ST ST N -93.270715  44.986581   \n",
       "14345 2021-06-22 13:30:00  00002X FRANKLIN AVE E -93.277185  44.962689   \n",
       "14346 2021-06-18 20:20:00    0026XX DUPONT AVE S -93.293151  44.954645   \n",
       "14347 2021-06-20 23:30:00      0052XX 40TH AVE S -93.215215  44.908098   \n",
       "\n",
       "          Neighborhood  Precinct Offense                     Description  \\\n",
       "14343         HIAWATHA         3    TFMV  THEFT FROM MOTR VEHC             \n",
       "14344       NORTH LOOP         1    TFMV  THEFT FROM MOTR VEHC             \n",
       "14345         WHITTIER         5   THEFT  OTHER THEFT                      \n",
       "14346  LOWRY HILL EAST         5    TFMV  THEFT FROM MOTR VEHC             \n",
       "14347        MINNEHAHA         3    TFMV  THEFT FROM MOTR VEHC             \n",
       "\n",
       "       UCRCode DayOfWeek  \n",
       "14343      7.0    Monday  \n",
       "14344      7.0    Monday  \n",
       "14345      7.0   Tuesday  \n",
       "14346      7.0    Friday  \n",
       "14347      7.0    Sunday  "
      ]
     },
     "execution_count": 96,
     "metadata": {},
     "output_type": "execute_result"
    }
   ],
   "source": [
    "\n",
    "# strip date and time and hour from timestamp\n",
    "df['Time'] = df['Dates'].apply( lambda d : d.time() )\n",
    "df['Date'] = df['Dates'].apply( lambda d : d.date() )\n",
    "df['Year'] = df['Dates'].apply( lambda d : d.year)\n",
    "df['Month'] = df['Dates'].apply( lambda d : d.month)\n",
    "df['Month_Name'] = df['Dates'].apply( lambda d : d.strftime('%B'))\n",
    "df['DayOfWeek_Num'] = df['Dates'].apply( lambda d : d.dayofweek)\n",
    "df['DayOfWeek'] = df['Dates'].dt.day_name()\n",
    "df['Hour'] = df['Dates'].apply( lambda d : d.hour)\n",
    "\n",
    "#df['Year_Month'] = df['Year'].astype(str) + '_' + df['Month'].astype(str)\n",
    "\n",
    "# make date a date char type\n",
    "df['Date'] = pd.to_datetime(df['Date'])\n",
    "\n",
    "# remove whitespace from Offense and Precinct\n",
    "df['Offense'] = df['Offense'].str.strip()\n",
    "\n",
    "# change AUTOTH to GTA to make more clear\n",
    "df['Offense']=df['Offense'].apply(lambda x:(x.replace('AUTOTH','GTA')))\n",
    "# combine other autothefts into one as they are all similar\n",
    "df['Offense']=df['Offense'].apply(lambda x:(x.replace('MVTHFT', 'TFMV').replace('TMVP', 'TFMV')))\n",
    "\n",
    "# remove punctuation from neighborhood column\n",
    "df['Neighborhood'] = df['Neighborhood'].str.replace(r\"[\\\"\\',]\", '')\n",
    "\n",
    "# remove na's (exist in precinct and neighborhood)\n",
    "df = df.dropna()\n",
    "\n",
    "# remove UI, 18 and 99 from precinct\n",
    "df = df[df.Precinct != 'UI    ']\n",
    "df = df[df.Precinct != 18]\n",
    "df = df[df.Precinct != 99]\n",
    "\n",
    "# convert precinct column to int\n",
    "df['Precinct'] = df['Precinct'].astype(int)\n",
    "\n",
    "# convert neighborhood to upper\n",
    "df['Neighborhood'] = df['Neighborhood'].str.upper()\n",
    "\n",
    "df_incidents = df[['Dates', 'Address', 'Long', 'Lat', 'Neighborhood', 'Precinct', 'Offense', 'Description', 'UCRCode', 'DayOfWeek']]\n",
    "\n",
    "df_incidents.tail()"
   ]
  },
  {
   "cell_type": "code",
   "execution_count": null,
   "metadata": {},
   "outputs": [
    {
     "name": "stdout",
     "output_type": "stream",
     "text": [
      "/Users/jaybennett/Documents/GitHub/kaggle-sf-crime\n"
     ]
    }
   ],
   "source": [
    "df_incidents.shape\n",
    "\n",
    "path = os.getcwd()\n",
    "print(path)\n",
    "df_incidents.to_csv(os.getcwd() +'/minneapolis_incidents.csv')"
   ]
  },
  {
   "cell_type": "markdown",
   "metadata": {},
   "source": [
    "## Crimes over the last ~ 10 years"
   ]
  },
  {
   "cell_type": "code",
   "execution_count": null,
   "metadata": {},
   "outputs": [],
   "source": [
    "# # group crimes by date and plot\n",
    "import seaborn as sns\n",
    "\n",
    "# set plot specs\n",
    "sns.set(rc={'figure.figsize':(15, 7)})\n",
    "\n",
    "# plot\n",
    "df_date = df_incidents.groupby('Year_Month').count()\n",
    "df_date.reset_index(inplace=True)\n",
    "s = sns.lineplot(x='Year_Month', y='Offense', data=df_date)\n",
    "s.set_xlabel('Year', fontsize=20)\n",
    "s.set_ylabel('Count', fontsize=20)\n",
    "s.axes.set_title('Crime Count by Month', fontsize=20)\n",
    "s.tick_params(labelsize=11)\n",
    "plt.show()"
   ]
  },
  {
   "cell_type": "code",
   "execution_count": null,
   "metadata": {},
   "outputs": [
    {
     "ename": "NameError",
     "evalue": "name 'df_incidents' is not defined",
     "output_type": "error",
     "traceback": [
      "\u001b[0;31m---------------------------------------------------------------------------\u001b[0m",
      "\u001b[0;31mNameError\u001b[0m                                 Traceback (most recent call last)",
      "\u001b[0;32m/var/folders/45/03zgzy4s0n1dj0g3htnmbffr0000gn/T/ipykernel_1555/2687837207.py\u001b[0m in \u001b[0;36m<module>\u001b[0;34m\u001b[0m\n\u001b[1;32m      6\u001b[0m \u001b[0;34m\u001b[0m\u001b[0m\n\u001b[1;32m      7\u001b[0m \u001b[0;31m# plot\u001b[0m\u001b[0;34m\u001b[0m\u001b[0;34m\u001b[0m\u001b[0;34m\u001b[0m\u001b[0m\n\u001b[0;32m----> 8\u001b[0;31m \u001b[0mdf_date\u001b[0m \u001b[0;34m=\u001b[0m \u001b[0mdf_incidents\u001b[0m\u001b[0;34m.\u001b[0m\u001b[0mgroupby\u001b[0m\u001b[0;34m(\u001b[0m\u001b[0;34m'Date'\u001b[0m\u001b[0;34m)\u001b[0m\u001b[0;34m.\u001b[0m\u001b[0mcount\u001b[0m\u001b[0;34m(\u001b[0m\u001b[0;34m)\u001b[0m\u001b[0;34m\u001b[0m\u001b[0;34m\u001b[0m\u001b[0m\n\u001b[0m\u001b[1;32m      9\u001b[0m \u001b[0mdf_date\u001b[0m\u001b[0;34m.\u001b[0m\u001b[0mreset_index\u001b[0m\u001b[0;34m(\u001b[0m\u001b[0minplace\u001b[0m\u001b[0;34m=\u001b[0m\u001b[0;32mTrue\u001b[0m\u001b[0;34m)\u001b[0m\u001b[0;34m\u001b[0m\u001b[0;34m\u001b[0m\u001b[0m\n\u001b[1;32m     10\u001b[0m \u001b[0ms\u001b[0m \u001b[0;34m=\u001b[0m \u001b[0msns\u001b[0m\u001b[0;34m.\u001b[0m\u001b[0mlineplot\u001b[0m\u001b[0;34m(\u001b[0m\u001b[0mx\u001b[0m\u001b[0;34m=\u001b[0m\u001b[0;34m'Date'\u001b[0m\u001b[0;34m,\u001b[0m \u001b[0my\u001b[0m\u001b[0;34m=\u001b[0m\u001b[0;34m'Offense'\u001b[0m\u001b[0;34m,\u001b[0m \u001b[0mdata\u001b[0m\u001b[0;34m=\u001b[0m\u001b[0mdf_date\u001b[0m\u001b[0;34m)\u001b[0m\u001b[0;34m\u001b[0m\u001b[0;34m\u001b[0m\u001b[0m\n",
      "\u001b[0;31mNameError\u001b[0m: name 'df_incidents' is not defined"
     ]
    }
   ],
   "source": [
    "# # group crimes by date and plot\n",
    "import seaborn as sns\n",
    "\n",
    "# set plot specs\n",
    "sns.set(rc={'figure.figsize':(15, 7)})\n",
    "\n",
    "# plot\n",
    "df_date = df_incidents.groupby('Date').count()\n",
    "df_date.reset_index(inplace=True)\n",
    "s = sns.lineplot(x='Date', y='Offense', data=df_date)\n",
    "s.set_xlabel('Date', fontsize=20)\n",
    "s.set_ylabel('Count', fontsize=20)\n",
    "s.axes.set_title('Crime Count by Day', fontsize=20)\n",
    "s.tick_params(labelsize=11)\n",
    "plt.show()"
   ]
  },
  {
   "cell_type": "code",
   "execution_count": null,
   "metadata": {},
   "outputs": [],
   "source": []
  },
  {
   "cell_type": "markdown",
   "metadata": {},
   "source": [
    "# Building the Model"
   ]
  },
  {
   "cell_type": "code",
   "execution_count": null,
   "metadata": {},
   "outputs": [],
   "source": []
  },
  {
   "cell_type": "code",
   "execution_count": null,
   "metadata": {},
   "outputs": [],
   "source": [
    "# concatenate date and hour together to form join key for crime data\n",
    "df['Date'] = df['Date'].astype(str)\n",
    "df['Hour'] = df['Hour'].astype(str)\n",
    "df['date_join'] = df[['Date', 'Hour']].apply(lambda x: ''.join(x), axis=1)\n",
    "df['Date'] = pd.to_datetime(df['Date'])\n",
    "\n",
    "# join crime and weather data\n",
    "df_new = df.merge(weather_df, on='date_join', how='left')\n",
    "df_new.head(n=100)"
   ]
  },
  {
   "cell_type": "code",
   "execution_count": null,
   "metadata": {},
   "outputs": [],
   "source": [
    "# join crime and weather data\n",
    "df_new = df.merge(weather_df, on='date_join', how='left')"
   ]
  },
  {
   "cell_type": "code",
   "execution_count": null,
   "metadata": {},
   "outputs": [],
   "source": [
    "# combine crimes into violent crime or not\n",
    "\n",
    "df_new['violent_crime'] = np.where(df_new['Offense'].isin(['ARSON', 'ASLT1', 'ASLT2', 'ASLT3', 'ASLT4', 'CSCR', 'DASLT1'\n",
    "                                                                     'DASLT2', 'DASLT3', 'DASTR', 'MURDR', 'ROBPAG', \n",
    "                                                                      'ROBPER', 'ROBBIZ', 'TFPER', 'JHOMIC']), 1, 0)\n",
    "\n",
    "df_new['other_crime'] = np.where(~df_new['Offense'].isin(['ARSON', 'ASLT1', 'ASLT2', 'ASLT3', 'ASLT4', 'CSCR', 'DASLT1'\n",
    "                                                                     'DASLT2', 'DASLT3', 'DASTR', 'MURDR', 'ROBPAG', \n",
    "                                                                      'ROBPER', 'ROBBIZ', 'TFPER', 'JHOMIC']), 1, 0)\n"
   ]
  },
  {
   "cell_type": "code",
   "execution_count": null,
   "metadata": {},
   "outputs": [],
   "source": [
    "# subset df down to necessary columns\n",
    "model_df = df_new.drop(['Time_x', 'Date_x', 'Year', 'DoW', 'Month_Name', 'ReportedDateTime', 'Neighborhood', 'Precinct', 'Offense', 'Description', 'date_join', 'dt', 'dt_iso',\n",
    "            'dt_iso_new', 'timezone', 'city_name', 'lat', 'lon', 'feels_like', 'temp_min', 'temp_max',\n",
    "           'pressure', 'sea_level', 'grnd_level', 'wind_deg', 'rain_3h', \n",
    "           #'rain_6h', 'rain_12h', 'rain_24h','rain_today', \n",
    "           'snow_3h', \n",
    "           # 'snow_6h', 'snow_12h', 'snow_24h', 'snow_today', \n",
    "           'clouds_all', 'weather_id',\n",
    "           'weather_main', 'weather_description', 'weather_icon', 'Time_y', 'Date_y', 'Hour_y'], axis=1)\n",
    "\n",
    "model_df['Hour_x'] = model_df['Hour_x'].astype(int)\n",
    "\n",
    "# model_df['Month_Name'] = calendar.month_name[model_df['Month']]\n",
    "# model_df['Month_Name'] = model_df['Month'].apply( lambda d : d.calendar.month_name() )"
   ]
  },
  {
   "cell_type": "code",
   "execution_count": null,
   "metadata": {},
   "outputs": [],
   "source": [
    "# deal with nas\n",
    "\n",
    "# count nas\n",
    "# model_df.isna().sum()\n",
    "\n",
    "# fill nas in cols\n",
    "model_df = model_df.fillna(0)\n",
    "\n",
    "model_df.tail()"
   ]
  },
  {
   "cell_type": "code",
   "execution_count": null,
   "metadata": {},
   "outputs": [],
   "source": [
    "# look at correlations\n",
    "# correlation heat map setup for seaborn\n",
    "def corr_chart(df_corr):\n",
    "    corr=df_corr.corr()\n",
    "    #screen top half to get a triangle\n",
    "    top = np.zeros_like(corr, dtype=bool)\n",
    "    top[np.triu_indices_from(top)] = True\n",
    "    fig=plt.figure()\n",
    "    fig, ax = plt.subplots(figsize=(12,12))\n",
    "    sns.heatmap(corr, mask=top, cmap='RdYlGn', \n",
    "        center = 0, square=True, \n",
    "        linewidths=.5, cbar_kws={'shrink':.5}, \n",
    "        annot = True, annot_kws={'size': 9}, fmt = '.3f')           \n",
    "    plt.xticks(rotation=45) # rotate variable labels on columns (x axis)\n",
    "    plt.yticks(rotation=0) # use horizontal variable labels on rows (y axis)\n",
    "    plt.title('Correlation Heat Map')   \n",
    "    plt.savefig('plot-corr-map.pdf', \n",
    "        bbox_inches = 'tight', dpi=None, facecolor='w', edgecolor='b', \n",
    "        orientation='portrait', format=None, \n",
    "        transparent=True, pad_inches=0.25)      \n",
    "\n",
    "np.set_printoptions(precision=3)\n",
    "corr_chart(df_corr = model_df)"
   ]
  },
  {
   "cell_type": "code",
   "execution_count": null,
   "metadata": {},
   "outputs": [],
   "source": []
  },
  {
   "cell_type": "markdown",
   "metadata": {},
   "source": [
    "##  Abstract\n",
    "\n",
    "Brief description (300 words or less) of your analysis and results. "
   ]
  },
  {
   "cell_type": "code",
   "execution_count": null,
   "metadata": {},
   "outputs": [],
   "source": []
  },
  {
   "cell_type": "markdown",
   "metadata": {},
   "source": [
    "## Introduction\n",
    "\n",
    "Introduce your project. Describe all the processes you followed to solve the problem."
   ]
  },
  {
   "cell_type": "markdown",
   "metadata": {},
   "source": [
    "To have a perspective of the security states of the city of Minneapolis we defined few questions, which we answered them during our data analytic project.\n",
    "Here is the list of these questions:\n",
    "1. How has the number of various crimes changed over time in Minneapolis?\n",
    "3. Are there any trends in the crimes being committed?\n",
    "4. Which crimes are most frequently committed?\n",
    "5. Which locations are these frequent crimes being committed to?\n",
    "6. Are there certain high crime locations for certain crimes? \n",
    "7. How has the number of certain crimes (etc homicide) changed over the years in Minneapolis?\n",
    "To answer these question we took the four main steps of the KDD data mining pipeline (see figure 1), which are respectively, data preprocessing, data pre-processing, analysis and post-processing.\n",
    "In this documentation, we also use the same name for each section of the report. In section 2, we describe how we gathered our data and the tasks we did in regard to clean our data as data Pre-Processing phase. Section 3 we dive straight into the data analysis process, we first introduce the methods and technologies we used and then we provide details on how we dealt with crime data in Spark SQL. section 4 we bring the visualization of our results. Finally, in section 5 we bring the conclusion.\n",
    "\n",
    "\n",
    "\n",
    "<blockquote class=\"citizen-incident-embed\" data-video=\"true\" data-details=\"true\" data-background=\"false\" data-remove-audio=\"true\" data-responsive=\"true\" data-video_stream_ids=\"mux:QPaIY7eoejpc01f02trIZZn01z3Nxf00Ob7LLhIAGVVU9oY\"><p lang=\"en\" dir=\"ltr\">One Killed, Fourteen Injured in Shooting at Bar <a href=\"https://citizen.com\">@CitizenApp</a></p>214 7th St W <a href=\"https://citizen.com/e/-Mlce2qWC8TiEZ6teu-Z\">12:23:47 AM CDT</a><script async=\"\" charset=\"utf-8\" src=\"https://citizen.com/static/scripts/embed.js\"></script><script type=\"text/javascript\" async=\"\" src=\"/static/scripts/embed.js?v=1633893811389\"></script></blockquote>"
   ]
  },
  {
   "cell_type": "markdown",
   "metadata": {},
   "source": [
    "## 1. The problem\n",
    "\n",
    "What's the problem you are trying to solve?\n",
    "\n",
    "[Back to top](#Table-of-contents)"
   ]
  },
  {
   "cell_type": "markdown",
   "metadata": {},
   "source": [
    "## 2. Purpose of the study\n",
    "\n",
    "Why are you solving the problem?\n",
    "\n",
    "[Back to top](#Table-of-contents)\n",
    "\n",
    "Problem Statements\n",
    "Question 1: Which month has the most crime?\n",
    "Question 2: Which weekday has the most crime?\n",
    "Question 3: What time of day has the most crime?\n",
    "Question 4: Where are crimes committed?\n",
    "But first, let’s get the assumptions and methods out of the way.\n",
    "\n"
   ]
  },
  {
   "cell_type": "markdown",
   "metadata": {},
   "source": [
    "The problem that this project will address is the following:\n",
    "How to develop a machine learning model to conduct descriptive, predictive, and\n",
    "prescriptive analysis of Minneapolis crime data?\n",
    "The descriptive portion focuses on identifying spatial temporal relationships with\n",
    "crime data. While the predictive focuses on potential future places and times of crimes.\n",
    "\n",
    "In order to achieve it\n",
    "system integrate Census data with the crime data and feed it to machine learning\n",
    "algorithms.\n",
    "In prescriptive analyzer it suggests process re-evaluate how to allocate\n",
    "police resources most effeciently and effectively to reduce or deter crimes."
   ]
  },
  {
   "cell_type": "markdown",
   "metadata": {},
   "source": [
    "## 3. Project description\n",
    "\n",
    "Describe your project.\n",
    "\n",
    "[Back to top](#Table-of-contents)"
   ]
  },
  {
   "cell_type": "markdown",
   "metadata": {},
   "source": [
    "### 3.1 Hypothesis\n",
    "\n",
    "What are the hypothesis that drive your project?\n",
    "\n",
    "[Back to top](#Table-of-contents)"
   ]
  },
  {
   "cell_type": "markdown",
   "metadata": {},
   "source": [
    "### 3.2 Workflow\n",
    "\n",
    "What's the process you are going to follow to solve the problem based on the Problem-Solving Framework:\n",
    "\n",
    "- Define the problem \n",
    "- Map the system \n",
    "- Define suitable metrics \n",
    "- Select modeling tools \n",
    "- Implement model  \n",
    "- Evaluate model \n",
    "- Deploy the final model \n",
    "\n",
    "[Back to top](#Table-of-contents)"
   ]
  },
  {
   "cell_type": "markdown",
   "metadata": {},
   "source": [
    "### 3.3 Methods\n",
    "\n",
    "What mathematical and computational methods are you using?\n",
    "\n",
    "[Back to top](#Table-of-contents)"
   ]
  },
  {
   "cell_type": "markdown",
   "metadata": {},
   "source": [
    "ML techniques used in crime prediction\n",
    "In ref. [42], a comparative study was carried out between violent crime patterns from the Communities and Crime Unnormalized Dataset versus actual crime statistical data using the open source data mining software Waikato Environment for Knowledge Analysis (WEKA). Three algorithms, namely, linear regression, additive regression, and decision stump, were implemented using the same finite set of features on communities and actual crime datasets. Test samples were randomly selected. The linear regression algorithm could handle randomness to a certain extent in the test samples and thus proved to be the best among all three selected algorithms. The scope of the project was to prove the efficiency and accuracy of ML algorithms in predicting violent crime patterns and other applications, such as determining criminal hotspots, creating criminal profiles, and learning criminal trends."
   ]
  },
  {
   "cell_type": "code",
   "execution_count": null,
   "metadata": {},
   "outputs": [],
   "source": []
  },
  {
   "cell_type": "markdown",
   "metadata": {},
   "source": [
    "### 3.4 Analysis \n",
    "\n",
    "Spend some time analysing your models, data and processes.\n",
    "\n",
    "[Back to top](#Table-of-contents)"
   ]
  },
  {
   "cell_type": "markdown",
   "metadata": {},
   "source": [
    "### 3.5 Results\n",
    "\n",
    "What are your results?\n",
    "\n",
    "[Back to top](#Table-of-contents)"
   ]
  },
  {
   "cell_type": "markdown",
   "metadata": {},
   "source": [
    "## Conclusion\n",
    "\n",
    "What are your conclusions?\n",
    "\n",
    "[Back to top](#Table-of-contents)"
   ]
  },
  {
   "cell_type": "markdown",
   "metadata": {},
   "source": [
    "## References\n",
    "\n",
    "Add references and bibliography you used in the project.\n",
    "\n",
    "Use this as an example for books:\n",
    "\n",
    "- Bishop, Christopher M. 2006. *Pattern Recognition and Machine Learning*. Springer.\n",
    "\n",
    "Use this as an example for articles:\n",
    "\n",
    "- Bubeck, Sébastien. 2015. Convex Optimization: Algorithms and Complexity. *Foundations and Trends in Machine Learning*, **8**(3-4), 231–357.\n",
    "\n",
    "[Back to top](#Table-of-contents)"
   ]
  },
  {
   "cell_type": "markdown",
   "metadata": {},
   "source": [
    "### Field Descriptions - PIMS (06/01/2018 to present)\n",
    "\n",
    "- **BeginDate** Date incident began. Time in the field is UTC not local, so a separate column is created for accurate time information.\n",
    "- **Time** Begin date time field.\n",
    "- **CCN** A concatenation of the 4 digit year in which the incident was created, followed by a dash and then a 6 digit number of sequence for the agency. The MP at the beginning signifies a report taken by Minneapolis Police. This is used because Minneapolis shares the record management system with the University of \n",
    "- **Minnesota Police ControlNbr** A unique identifier for case.\n",
    "- **Offense** Code of criminal act reported.\n",
    "- **Description** Description of the criminal code of incident.\n",
    "- **EnteredDate** The timestamp of when the incident was created in the system.\n",
    "- **GBSID** The anonymized street centerline ID.\n",
    "- **LastChanged** Date the record was last altered in system.\n",
    "- **LastUpdateDate** Date the record was last moved to open data.\n",
    "- **Lat** The anonymized latitude of the incident.\n",
    "- **Long** The anonymized longitude of the incident.\n",
    "- **Neighborhood** The neighborhood of the incident. Note that occasionally due to the anonymization process, if a point is on the boundary of a neighborhood, it may fall into either neighborhood.\n",
    "- **OBJECTID** A unique identifier for open data portal.\n",
    "- **Precinct** The police precinct of the incident. Note that occasionally due to the anonymization process, if a point is on the boundary of a precinct, it may fall into either precinct.\n",
    "- **PublicAddress** Address of incident anonymized to the block.\n",
    "- **ReportedDate** Date incident is reported to police.\n",
    "\n",
    "- **Categoy** = UCRCode: Code that signifies the type of crime that was committed. (1 = MURDER3 = RAPE 4 = ROBBERY 5 = ASSAULT 6 = BURGLARY 7 = LARCENY 8 = AUTO THEFT 10 = ARSON)\n",
    "\n",
    "### Field Descriptions \n",
    "\n",
    "- CAPRS (01/01/2010 to present) *The system is 28 years old but 2010 is the oldest data pulbished on https://opendata.minneapolismn.gov/\n",
    "-\n",
    "- **PublicAddress** (type: esriFieldTypeString, alias: PublicAddress, SQL Type: sqlTypeOther, length: 100, nullable: true, editable: true)\n",
    "- **ControlNbr** (type: esriFieldTypeInteger, alias: ControlNbr, SQL Type: sqlTypeOther, nullable: false, editable: true)\n",
    "- **CCN** (type: esriFieldTypeString, alias: CCN, SQL Type: sqlTypeOther, length: 28, nullable: true, editable: true)\n",
    "- **Precinct** (type: esriFieldTypeString, alias: Precinct, SQL Type: sqlTypeOther, length: 2, nullable: true, editable: true)\n",
    "- **ReportedDate** (type: esriFieldTypeDate, alias: ReportedDate, SQL Type: sqlTypeOther, length: 8, nullable: true, editable: true)\n",
    "- **BeginDate** (type: esriFieldTypeDate, alias: BeginDate, SQL Type: sqlTypeOther, length: 8, nullable: true, editable: true)\n",
    "- **Time** (type: esriFieldTypeString, alias: Time, SQL Type: sqlTypeOther, length: 20, nullable: true, editable: true)\n",
    "- **Offense** (type: esriFieldTypeString, alias: Offense, SQL Type: sqlTypeOther, length: 20, nullable: false, editable: true)\n",
    "- **Description** (type: esriFieldTypeString, alias: Description, SQL Type: sqlTypeOther, length: 65, nullable: true, editable: true)\n",
    "- **UCRCode** (type: esriFieldTypeString, alias: UCRCode, SQL Type: sqlTypeOther, length: 3, nullable: true, editable: true)\n",
    "- **EnteredDate** (type: esriFieldTypeDate, alias: EnteredDate, SQL Type: sqlTypeOther, length: 8, nullable: true, editable: true)\n",
    "- **GBSID** (type: esriFieldTypeDouble, alias: GBSID, SQL Type: sqlTypeOther, nullable: true, editable: true)\n",
    "- **Lat** (type: esriFieldTypeDouble, alias: Lat, SQL Type: sqlTypeOther, nullable: true, editable: true)\n",
    "- **Long** (type: esriFieldTypeDouble, alias: Long, SQL Type: sqlTypeOther, nullable: true, editable: true)\n",
    "- **X** (type: esriFieldTypeDouble, alias: X, SQL Type: sqlTypeOther, nullable: true, editable: true)\n",
    "- **Y** (type: esriFieldTypeDouble, alias: Y, SQL Type: sqlTypeOther, nullable: true, editable: true)\n",
    "- **Neighborhood** (type: esriFieldTypeString, alias: Neighborhood, SQL Type: sqlTypeOther, length: 32, nullable: true, editable: true)\n",
    "- **LastChanged** (type: esriFieldTypeDate, alias: LastChanged, SQL Type: sqlTypeOther, length: 8, nullable: true, editable: true)\n",
    "- **LastUpdateDate** (type: esriFieldTypeDate, alias: LastUpdateDate, SQL Type: sqlTypeOther, length: 8, nullable: true, editable: true)\n",
    "- **ESRI_OID** (type: esriFieldTypeOID, alias: ESRI_OID, SQL Type: sqlTypeOther, length: 0, nullable: false, editable: false)\n"
   ]
  },
  {
   "cell_type": "markdown",
   "metadata": {},
   "source": []
  }
 ],
 "metadata": {
  "interpreter": {
   "hash": "d1ef381ed5e3bd237d5cc3dea30af8018e506ac9a700f35cc38adabbb691cad3"
  },
  "kernelspec": {
   "display_name": "Python 3.8.8 64-bit ('boost': conda)",
   "name": "python3"
  },
  "language_info": {
   "codemirror_mode": {
    "name": "ipython",
    "version": 3
   },
   "file_extension": ".py",
   "mimetype": "text/x-python",
   "name": "python",
   "nbconvert_exporter": "python",
   "pygments_lexer": "ipython3",
   "version": "3.8.8"
  }
 },
 "nbformat": 4,
 "nbformat_minor": 4
}
